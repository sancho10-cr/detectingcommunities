{
 "cells": [
  {
   "cell_type": "code",
   "execution_count": 9,
   "id": "1a5489e6-92f6-4de1-bb49-8eaefc891d70",
   "metadata": {},
   "outputs": [
    {
     "name": "stdout",
     "output_type": "stream",
     "text": [
      "Modularity-based methods:\n",
      "Louvain method:\n",
      "Number of communities: 3\n",
      "Community 1: frozenset({8, 14, 15, 18, 20, 22, 23, 24, 25, 26, 27, 28, 29, 30, 31, 32, 33})\n",
      "Community 2: frozenset({1, 2, 3, 7, 9, 12, 13, 17, 21})\n",
      "Community 3: frozenset({0, 16, 19, 4, 5, 6, 10, 11})\n",
      "\n"
     ]
    }
   ],
   "source": [
    "import networkx as nx\n",
    "import matplotlib.pyplot as plt\n",
    "from community import community_louvain\n",
    "from scipy.io import mmread\n",
    "\n",
    "\n",
    "# Load the American College football network dataset\n",
    "#G = nx.read_gml('inputs/football/football.gml')\n",
    "\n",
    "#load the zachary'karate dataset\n",
    "#G = nx.karate_club_graph()\n",
    "\n",
    "# Load the Bottlenose Dolphins network dataset\n",
    "#G = nx.read_gml('inputs/dolphins/dolphins.gml')\n",
    "\n",
    "# Load the Books about US politics networks dataset\n",
    "#G = nx.read_gml('inputs/polbooks/polbooks.gml')\n",
    "\n",
    "# Load the US power grid network\n",
    "#G = nx.read_gml('inputs/power/power.gml', label = 'id')\n",
    "\n",
    "# Load the MTX file: Email, the university network as a sparse adjacency matrix\n",
    "adj_matrix = mmread(\"inputs/email/email.mtx\").tocsr()\n",
    "\n",
    "# Convert the sparse adjacency matrix to a NetworkX graph\n",
    "G = nx.from_scipy_sparse_matrix(adj_matrix)\n",
    "\n",
    "# Print some information about the graph\n",
    "print(nx.info(G))\n",
    "\n",
    "\n",
    "# Load the network graph\n",
    "G = nx.karate_club_graph()\n",
    "\n",
    "# Modularity-based methods\n",
    "louvain_communities = nx.community.greedy_modularity_communities(G)\n",
    "#newman_girvan_communities = nx.community.girvan_newman(G)\n",
    "\n",
    "print(\"Modularity-based methods:\")\n",
    "print(\"Louvain method:\")\n",
    "print(f\"Number of communities: {len(louvain_communities)}\")\n",
    "for i, community in enumerate(louvain_communities):\n",
    "    print(f\"Community {i+1}: {community}\")\n",
    "\n",
    "print()"
   ]
  },
  {
   "cell_type": "code",
   "execution_count": 1,
   "id": "3a39b33a-c812-45f9-ae98-b3d6bdf0ac76",
   "metadata": {},
   "outputs": [
    {
     "name": "stdout",
     "output_type": "stream",
     "text": [
      "Overlapping community detection:\n",
      "Clique Percolation Method (k=3):\n",
      "Number of communities: 3\n",
      "Community 1: frozenset({0, 1, 2, 3, 7, 8, 12, 13, 14, 15, 17, 18, 19, 20, 21, 22, 23, 26, 27, 28, 29, 30, 31, 32, 33})\n",
      "Community 2: frozenset({0, 4, 5, 6, 10, 16})\n",
      "Community 3: frozenset({24, 25, 31})\n",
      "\n"
     ]
    }
   ],
   "source": [
    "import networkx as nx\n",
    "\n",
    "G = nx.karate_club_graph()\n",
    "clique_percolation_communities = list(nx.community.k_clique_communities(G, k=3))\n",
    "\n",
    "\n",
    "print(\"Overlapping community detection:\")\n",
    "print(\"Clique Percolation Method (k=3):\")\n",
    "print(f\"Number of communities: {len(clique_percolation_communities)}\")\n",
    "for i, community in enumerate(clique_percolation_communities):\n",
    "    print(f\"Community {i+1}: {community}\")\n",
    "\n",
    "print()\n"
   ]
  },
  {
   "cell_type": "code",
   "execution_count": 3,
   "id": "93c6ac7f-4848-40d5-989f-f0420174218b",
   "metadata": {},
   "outputs": [
    {
     "name": "stdout",
     "output_type": "stream",
     "text": [
      "Label propagation:\n",
      "Number of communities: 3\n",
      "Community 1: {0, 1, 3, 4, 7, 10, 11, 12, 13, 17, 19, 21, 24, 25, 31}\n",
      "Community 2: {32, 33, 2, 8, 9, 14, 15, 18, 20, 22, 23, 26, 27, 28, 29, 30}\n",
      "Community 3: {16, 5, 6}\n",
      "\n"
     ]
    }
   ],
   "source": [
    "# Label propagation\n",
    "\n",
    "label_propagation_communities = nx.community.label_propagation_communities(G)\n",
    "\n",
    "print(\"Label propagation:\")\n",
    "print(f\"Number of communities: {len(label_propagation_communities)}\")\n",
    "for i, community in enumerate(label_propagation_communities):\n",
    "    print(f\"Community {i+1}: {community}\")\n",
    "print()"
   ]
  }
 ],
 "metadata": {
  "kernelspec": {
   "display_name": "Python 3 (ipykernel)",
   "language": "python",
   "name": "python3"
  },
  "language_info": {
   "codemirror_mode": {
    "name": "ipython",
    "version": 3
   },
   "file_extension": ".py",
   "mimetype": "text/x-python",
   "name": "python",
   "nbconvert_exporter": "python",
   "pygments_lexer": "ipython3",
   "version": "3.9.13"
  }
 },
 "nbformat": 4,
 "nbformat_minor": 5
}
